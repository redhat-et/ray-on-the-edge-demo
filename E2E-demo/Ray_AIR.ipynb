{
 "cells": [
  {
   "cell_type": "markdown",
   "id": "d749e53e-3d56-4120-a849-a96e68f56a6d",
   "metadata": {},
   "source": [
    "https://docs.ray.io/en/latest/ray-air/getting-started.html "
   ]
  },
  {
   "cell_type": "code",
   "execution_count": 1,
   "id": "73614b36-4c9f-401a-95bd-96cb24430b0a",
   "metadata": {},
   "outputs": [],
   "source": [
    "import ray\n",
    "from ray.data.preprocessors import Concatenator, Chain, StandardScaler\n",
    "import numpy as np\n",
    "import os"
   ]
  },
  {
   "cell_type": "code",
   "execution_count": 2,
   "id": "d43d7447-d420-4251-85b5-73237b914536",
   "metadata": {},
   "outputs": [
    {
     "name": "stderr",
     "output_type": "stream",
     "text": [
      "Python-dotenv could not parse statement starting at line 4\n"
     ]
    }
   ],
   "source": [
    "from ray_cluster_control import start_ray_cluster, stop_ray_cluster"
   ]
  },
  {
   "cell_type": "code",
   "execution_count": null,
   "id": "5f0fe877-8d93-473e-bb40-491e3207c5d8",
   "metadata": {},
   "outputs": [],
   "source": [
    "start_ray_cluster()"
   ]
  },
  {
   "cell_type": "code",
   "execution_count": null,
   "id": "b149aa67-d23b-4f29-a7f8-f1bc33ae1eb4",
   "metadata": {},
   "outputs": [],
   "source": [
    "ray.init('ray://{ray_head}-ray-head:10001'.format(ray_head=os.environ['RAY_CLUSTER_NAME']))"
   ]
  },
  {
   "cell_type": "code",
   "execution_count": 5,
   "id": "229f0110-0246-47b6-9700-2105edeba993",
   "metadata": {},
   "outputs": [],
   "source": [
    "dataset = ray.data.read_csv(\"s3://anonymous@air-example-data/breast_cancer.csv\")"
   ]
  },
  {
   "cell_type": "code",
   "execution_count": 6,
   "id": "76fd51e2-a878-41eb-a68c-5c320e145167",
   "metadata": {},
   "outputs": [],
   "source": [
    "train_dataset, valid_dataset = dataset.train_test_split(test_size=0.3)"
   ]
  },
  {
   "cell_type": "code",
   "execution_count": 7,
   "id": "25fda5cc-5fca-4e12-bb41-1bc3c5a0cb1e",
   "metadata": {},
   "outputs": [
    {
     "name": "stderr",
     "output_type": "stream",
     "text": [
      "Map_Batches: 100%|██████████| 1/1 [00:01<00:00,  1.37s/it]\n"
     ]
    }
   ],
   "source": [
    "tes_dataset = valid_dataset.drop_columns(cols=[\"target\"])"
   ]
  },
  {
   "cell_type": "code",
   "execution_count": 8,
   "id": "d3a92457-d259-486a-acb1-e0a200c810b4",
   "metadata": {},
   "outputs": [],
   "source": [
    "preprocessor = Chain(StandardScaler(columns= [\"mean radius\", \"mean texture\"]),Concatenator(exclude =[\"target\"], dtype=np.float32))"
   ]
  },
  {
   "cell_type": "code",
   "execution_count": 9,
   "id": "d39dcd28-77dc-4b57-af7d-0437dbad7823",
   "metadata": {},
   "outputs": [],
   "source": [
    "import torch\n",
    "import torch.nn as nn\n",
    "from torch.nn.modules.utils import consume_prefix_in_state_dict_if_present\n",
    "\n",
    "from ray import train\n",
    "from ray.air import session\n",
    "from ray.air.config import ScalingConfig\n",
    "from ray.train.torch import TorchCheckpoint, TorchTrainer\n"
   ]
  },
  {
   "cell_type": "code",
   "execution_count": 10,
   "id": "dc9e4e29-dba4-42bf-8d54-3355968d9219",
   "metadata": {},
   "outputs": [],
   "source": [
    "def linear_model(input_features):\n",
    "    return nn.Sequential(\n",
    "        nn.Linear(in_features=input_features, out_features=16),\n",
    "        nn.ReLU(),\n",
    "        nn.Linear(16,16),\n",
    "        nn.ReLU(),\n",
    "        nn.Linear(16,1),\n",
    "        nn.Sigmoid())"
   ]
  },
  {
   "cell_type": "code",
   "execution_count": 11,
   "id": "c4cdacfd-de4e-4eca-8b91-6e8a06edaced",
   "metadata": {},
   "outputs": [],
   "source": [
    "def train_loop_per_worker(config):\n",
    "    \n",
    "    batch_size = config[\"batch_size\"]\n",
    "    lr = config[\"lr\"]\n",
    "    epochs = config[\"num_epochs\"]\n",
    "    num_features = config[\"num_features\"]\n",
    "    \n",
    "    train_data = train.get_dataset_shard(\"train\")\n",
    "    \n",
    "    model = linear_model(num_features) \n",
    "    model = train.torch.prepare_model(model).to(\"cuda\")\n",
    "    \n",
    "    loss_fn = nn.BCELoss()\n",
    "    optimizer = torch.optim.SGD(model.parameters(),\n",
    "                                lr=lr)\n",
    "    \n",
    "    for cur_epoch in range(epochs):\n",
    "        for batch in train_data.iter_torch_batches(\n",
    "            batch_size=batch_size, dtypes=torch.float32):\n",
    "            \n",
    "            inputs, labels = batch[\"concat_out\"], batch[\"target\"]\n",
    "            optimizer.zero_grad()\n",
    "            predictions = model(inputs.to(\"cuda\"))\n",
    "            train_loss = loss_fn(predictions, labels.unsqueeze(1).to(\"cuda\"))\n",
    "            train_loss.backward()\n",
    "            optimizer.step()\n",
    "        \n",
    "        loss = train_loss.item()\n",
    "        session.report({\"loss\":loss}, checkpoint=TorchCheckpoint.from_model(model)) "
   ]
  },
  {
   "cell_type": "code",
   "execution_count": 12,
   "id": "8cda86c3-c8a9-43bd-b430-6df618102e0d",
   "metadata": {},
   "outputs": [],
   "source": [
    "num_features = len(train_dataset.schema().names) - 1"
   ]
  },
  {
   "cell_type": "code",
   "execution_count": 13,
   "id": "3bee3e03-8397-4452-ba62-8f4932b8dd3b",
   "metadata": {},
   "outputs": [],
   "source": [
    "trainer = TorchTrainer(\n",
    "    train_loop_per_worker= train_loop_per_worker,\n",
    "    train_loop_config = {\n",
    "    \"batch_size\": 128,\n",
    "    \"num_epochs\": 20,\n",
    "    \"num_features\": num_features,\n",
    "    \"lr\": 0.001,\n",
    "    },\n",
    "    scaling_config = ScalingConfig(\n",
    "        num_workers=1,\n",
    "        use_gpu=True,\n",
    "        trainer_resources={\"CPU\": 1}),\n",
    "    datasets = {\"train\" : train_dataset},\n",
    "    preprocessor=preprocessor,\n",
    ")"
   ]
  },
  {
   "cell_type": "code",
   "execution_count": null,
   "id": "a6f84708-bfb5-4fb4-809f-3c91017ed1ff",
   "metadata": {},
   "outputs": [],
   "source": [
    "result = trainer.fit()"
   ]
  },
  {
   "cell_type": "code",
   "execution_count": null,
   "id": "72a6af92-cd66-473a-a10e-e8369887ccc8",
   "metadata": {},
   "outputs": [],
   "source": [
    "print(f\"Last result: {result.metrics}\")"
   ]
  },
  {
   "cell_type": "code",
   "execution_count": 16,
   "id": "66e8d4be-fd5b-419c-b9db-ade58123dd87",
   "metadata": {},
   "outputs": [],
   "source": [
    "from ray import tune"
   ]
  },
  {
   "cell_type": "code",
   "execution_count": 17,
   "id": "d39f474e-b332-44a1-9553-523b38dab4e2",
   "metadata": {},
   "outputs": [],
   "source": [
    "param_space = {\"train_loop_config\": {\"lr\": tune.loguniform(0.0001, 0.02)}}\n",
    "metric = \"loss\""
   ]
  },
  {
   "cell_type": "code",
   "execution_count": 18,
   "id": "b2146aef-e7e8-4e7b-9862-ac2cb2efd192",
   "metadata": {},
   "outputs": [],
   "source": [
    "from ray.tune.tuner import Tuner, TuneConfig \n",
    "from ray.air.config import RunConfig"
   ]
  },
  {
   "cell_type": "code",
   "execution_count": 19,
   "id": "bf3083c7-c5fd-4453-bc4b-02cdddb65ad3",
   "metadata": {},
   "outputs": [],
   "source": [
    "tuner = Tuner(\n",
    "    trainer,\n",
    "    param_space=param_space,\n",
    "    tune_config=TuneConfig(num_samples=5, metric=metric, mode=\"min\"),\n",
    ")\n"
   ]
  },
  {
   "cell_type": "code",
   "execution_count": null,
   "id": "8874dc52-9be3-4d08-8061-8e85313bb43d",
   "metadata": {},
   "outputs": [],
   "source": [
    "result_grid = tuner.fit()"
   ]
  },
  {
   "cell_type": "code",
   "execution_count": 21,
   "id": "766b2dff-cca8-49ba-b2ac-c27bd93565ee",
   "metadata": {},
   "outputs": [
    {
     "name": "stdout",
     "output_type": "stream",
     "text": [
      "Best Result: Result(metrics={'loss': 0.36218541860580444, '_timestamp': 1666013245, '_time_this_iter_s': 0.07092833518981934, '_training_iteration': 20, 'should_checkpoint': True, 'done': True, 'trial_id': '57c8f_00000', 'experiment_tag': '0_lr=0.0002'}, error=None, log_dir=PosixPath('/home/ray_results/TorchTrainer_2022-10-17_13-26-44/TorchTrainer_57c8f_00000_0_lr=0.0002_2022-10-17_13-26-44'))\n"
     ]
    }
   ],
   "source": [
    "best_result = result_grid.get_best_result()\n",
    "print(\"Best Result:\", best_result)"
   ]
  },
  {
   "cell_type": "code",
   "execution_count": null,
   "id": "c9c632be-b4c9-4217-9056-98f63ab2921c",
   "metadata": {},
   "outputs": [],
   "source": [
    "stop_ray_cluster()"
   ]
  }
 ],
 "metadata": {
  "kernelspec": {
   "display_name": "Python 3 (ipykernel)",
   "language": "python",
   "name": "python3"
  },
  "language_info": {
   "codemirror_mode": {
    "name": "ipython",
    "version": 3
   },
   "file_extension": ".py",
   "mimetype": "text/x-python",
   "name": "python",
   "nbconvert_exporter": "python",
   "pygments_lexer": "ipython3",
   "version": "3.8.12"
  }
 },
 "nbformat": 4,
 "nbformat_minor": 5
}
