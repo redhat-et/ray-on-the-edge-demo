{
 "cells": [
  {
   "cell_type": "code",
   "execution_count": 1,
   "id": "7091d97e-22d2-4ae2-a006-b41f7f48f3cc",
   "metadata": {},
   "outputs": [],
   "source": [
    "#https://docs.ray.io/en/latest/train/examples/train_fashion_mnist_example.html"
   ]
  },
  {
   "cell_type": "code",
   "execution_count": 2,
   "id": "f462ad35-dfca-45c5-850a-41971da6574d",
   "metadata": {},
   "outputs": [
    {
     "name": "stderr",
     "output_type": "stream",
     "text": [
      "/opt/app-root/lib64/python3.8/site-packages/tqdm/auto.py:22: TqdmWarning: IProgress not found. Please update jupyter and ipywidgets. See https://ipywidgets.readthedocs.io/en/stable/user_install.html\n",
      "  from .autonotebook import tqdm as notebook_tqdm\n"
     ]
    }
   ],
   "source": [
    "import os\n",
    "import glob\n",
    "import random\n",
    "import numpy as np\n",
    "import pandas as pd\n",
    "\n",
    "import torch\n",
    "import torch.nn as nn\n",
    "import torch.optim as optim\n",
    "from torch.nn.modules.utils import consume_prefix_in_state_dict_if_present\n",
    "import torch.nn.functional as F\n",
    "import torchvision\n",
    "from torchvision.transforms import ToTensor, Resize,Compose, ToPILImage\n",
    "\n",
    "from sklearn.metrics import classification_report, confusion_matrix\n",
    "\n",
    "import ray\n",
    "from ray import train\n",
    "from ray import tune\n",
    "import ray.train.torch\n",
    "from ray.train import Trainer\n",
    "from ray.train import CheckpointStrategy\n",
    "from ray.data.datasource import SimpleTorchDatasource\n",
    "\n",
    "import matplotlib.pyplot as plt\n",
    "\n",
    "from ray_cluster_control import start_ray_cluster, stop_ray_cluster"
   ]
  },
  {
   "cell_type": "code",
   "execution_count": 3,
   "id": "4a964830-20ac-495d-bde2-7789058b40e6",
   "metadata": {},
   "outputs": [],
   "source": [
    "start_ray_cluster()"
   ]
  },
  {
   "cell_type": "code",
   "execution_count": 4,
   "id": "12c98cef-f712-460a-a012-e49c07c9bff6",
   "metadata": {},
   "outputs": [
    {
     "data": {
      "text/plain": [
       "ClientContext(dashboard_url='10.128.2.92:8265', python_version='3.8.12', ray_version='1.13.0', ray_commit='e4ce38d001dbbe09cd21c497fedd03d692b2be3e', protocol_version='2022-03-16', _num_clients=1, _context_to_restore=<ray.util.client._ClientContext object at 0x7fc71b75cbe0>)"
      ]
     },
     "execution_count": 4,
     "metadata": {},
     "output_type": "execute_result"
    }
   ],
   "source": [
    "ray.init('ray://{ray_head}-ray-head:10001'.format(ray_head=os.environ['RAY_CLUSTER_NAME']))"
   ]
  },
  {
   "cell_type": "code",
   "execution_count": 5,
   "id": "1bc51cd1-8164-4ffb-ab5b-95ba6ce5fa58",
   "metadata": {},
   "outputs": [],
   "source": [
    "transforms = Compose([Resize((64,64)),ToTensor()])"
   ]
  },
  {
   "cell_type": "code",
   "execution_count": 6,
   "id": "3e87c2b0-65b2-4826-8f33-372cd777589f",
   "metadata": {},
   "outputs": [],
   "source": [
    "pet_data = torchvision.datasets.OxfordIIITPet(\"data/\",download = True ,  target_types = \"category\", transform = transforms, split = \"trainval\")"
   ]
  },
  {
   "cell_type": "code",
   "execution_count": 7,
   "id": "7b594110-b434-4fb9-af1f-eec6a72bc8e4",
   "metadata": {},
   "outputs": [],
   "source": [
    "data_loader = torch.utils.data.DataLoader(pet_data, batch_size=4, shuffle=True)"
   ]
  },
  {
   "cell_type": "markdown",
   "id": "643d38dc-8c47-4bad-914a-848d7253e278",
   "metadata": {},
   "source": [
    "This data set is only 3K and not the full 7k since we read in dataset with the `split` parameters that pulls in the files based on the corresponding txt file in `data/data/oxford-iiit-pet/annotations`"
   ]
  },
  {
   "cell_type": "code",
   "execution_count": 8,
   "id": "46b71da9-eee0-4d73-a66f-627ea21ff703",
   "metadata": {},
   "outputs": [
    {
     "data": {
      "text/plain": [
       "3680"
      ]
     },
     "execution_count": 8,
     "metadata": {},
     "output_type": "execute_result"
    }
   ],
   "source": [
    "len(pet_data)"
   ]
  },
  {
   "cell_type": "code",
   "execution_count": 9,
   "id": "3d6556aa-a289-4362-b1f3-cd6b475bed86",
   "metadata": {},
   "outputs": [
    {
     "name": "stdout",
     "output_type": "stream",
     "text": [
      "cpu\n"
     ]
    }
   ],
   "source": [
    "device = torch.device(\"cuda:0\" if torch.cuda.is_available() else \"cpu\")\n",
    "print(device)\n",
    "device = \"cpu\""
   ]
  },
  {
   "cell_type": "code",
   "execution_count": 10,
   "id": "3fca7583-31d4-4810-b7eb-ae9e950aa069",
   "metadata": {},
   "outputs": [
    {
     "name": "stdout",
     "output_type": "stream",
     "text": [
      "Feature batch shape: torch.Size([4, 3, 64, 64])\n",
      "Labels batch shape: torch.Size([4])\n"
     ]
    },
    {
     "data": {
      "image/png": "[encoded data removed]",
      "text/plain": [
       "<PIL.Image.Image image mode=RGB size=64x64>"
      ]
     },
     "metadata": {},
     "output_type": "display_data"
    },
    {
     "name": "stdout",
     "output_type": "stream",
     "text": [
      "label:22\n"
     ]
    }
   ],
   "source": [
    "train_features, train_labels = next(iter(data_loader))\n",
    "print(f\"Feature batch shape: {train_features.size()}\")\n",
    "print(f\"Labels batch shape: {train_labels.size()}\")\n",
    "make = ToPILImage()\n",
    "make(train_features[0]).show()\n",
    "print(f'label:{train_labels[0]}')"
   ]
  },
  {
   "cell_type": "code",
   "execution_count": 11,
   "id": "5f12df06-28d4-434a-b26e-9e7ea19a1f95",
   "metadata": {},
   "outputs": [],
   "source": [
    "# modified from https://pytorch.org/tutorials/beginner/blitz/cifar10_tutorial.html\n",
    "class ConvNet(nn.Module):\n",
    "    def __init__(self):\n",
    "        super().__init__()\n",
    "        self.conv1 = nn.Conv2d(3, 16, 3, 1)\n",
    "        self.pool = nn.MaxPool2d(2, 2)\n",
    "        self.conv2 = nn.Conv2d(16, 32, 3,1 )\n",
    "        \n",
    "        self.fc1 = nn.Linear(6272 , 128)\n",
    "        self.fc2 = nn.Linear(128, 64)\n",
    "        self.fc3 = nn.Linear(64, 37)\n",
    "        \n",
    "        self.dropout1 = nn.Dropout(0.25)\n",
    "        self.relu = nn.ReLU()\n",
    "\n",
    "    def forward(self, x):\n",
    "        x = self.pool((self.conv1(x)))\n",
    "        x = self.pool((self.conv2(x)))\n",
    "        x = torch.flatten(x, 1) # flatten all dimensions except batch\n",
    "        x = self.relu(self.fc1(x))\n",
    "        x = self.relu(self.fc2(x))\n",
    "        y_pred = self.fc3(x)\n",
    "        return y_pred\n",
    "\n"
   ]
  },
  {
   "cell_type": "code",
   "execution_count": 12,
   "id": "9ab90031-d1d3-4b6f-8196-e6b763e12a9a",
   "metadata": {},
   "outputs": [
    {
     "data": {
      "text/plain": [
       "ConvNet(\n",
       "  (conv1): Conv2d(3, 16, kernel_size=(3, 3), stride=(1, 1))\n",
       "  (pool): MaxPool2d(kernel_size=2, stride=2, padding=0, dilation=1, ceil_mode=False)\n",
       "  (conv2): Conv2d(16, 32, kernel_size=(3, 3), stride=(1, 1))\n",
       "  (fc1): Linear(in_features=6272, out_features=128, bias=True)\n",
       "  (fc2): Linear(in_features=128, out_features=64, bias=True)\n",
       "  (fc3): Linear(in_features=64, out_features=37, bias=True)\n",
       "  (dropout1): Dropout(p=0.25, inplace=False)\n",
       "  (relu): ReLU()\n",
       ")"
      ]
     },
     "execution_count": 12,
     "metadata": {},
     "output_type": "execute_result"
    }
   ],
   "source": [
    "net = ConvNet()\n",
    "net.to(device)"
   ]
  },
  {
   "cell_type": "code",
   "execution_count": 13,
   "id": "1a087b70-4b2e-45c3-8bb6-30f1724b3f7b",
   "metadata": {},
   "outputs": [],
   "source": [
    "criterion = nn.CrossEntropyLoss()\n",
    "optimizer = optim.SGD(net.parameters(), lr=0.001, momentum=0.9)"
   ]
  },
  {
   "cell_type": "code",
   "execution_count": 14,
   "id": "6f342828-9af0-4be7-ad81-a2cbc833f039",
   "metadata": {},
   "outputs": [],
   "source": [
    "def train_x(model, device, train_loader, optimizer, epoch):\n",
    "    model.train()\n",
    "    for batch_idx, (data, target) in enumerate(train_loader):\n",
    "        data, target = data.to(device), target.to(device)\n",
    "        optimizer.zero_grad()\n",
    "        output = model(data)\n",
    "        loss = criterion(output, target)\n",
    "        loss.backward()\n",
    "        optimizer.step()\n",
    "        if batch_idx % 1000 == 0:\n",
    "            print('Train Epoch: {} [{}/{} ({:.0f}%)]\\tLoss: {:.6f}'.format(\n",
    "                epoch, batch_idx * len(data), len(train_loader.dataset),\n",
    "                100. * batch_idx / len(train_loader), loss.item()))"
   ]
  },
  {
   "cell_type": "code",
   "execution_count": 15,
   "id": "9c984e60-6867-4155-afbf-e1532f8ba71c",
   "metadata": {},
   "outputs": [
    {
     "name": "stdout",
     "output_type": "stream",
     "text": [
      "CPU times: user 2 µs, sys: 0 ns, total: 2 µs\n",
      "Wall time: 5.25 µs\n",
      "Train Epoch: 0 [0/3680 (0%)]\tLoss: 3.656356\n",
      "Train Epoch: 1 [0/3680 (0%)]\tLoss: 3.558275\n",
      "Finished Training\n"
     ]
    }
   ],
   "source": [
    "%time\n",
    "for epoch in range(2):\n",
    "    train_x(net,device,data_loader, optimizer, epoch) \n",
    "    \n",
    "state_dict = net.state_dict()\n",
    "consume_prefix_in_state_dict_if_present(state_dict, \"module.\")        \n",
    "\n",
    "print('Finished Training')"
   ]
  },
  {
   "cell_type": "code",
   "execution_count": 16,
   "id": "f9e48146-7dea-4e47-93ca-4436bcdb1167",
   "metadata": {},
   "outputs": [],
   "source": [
    "model_scripted = torch.jit.script(net)\n",
    "model_scripted.save('model_scripted.pt')"
   ]
  },
  {
   "cell_type": "code",
   "execution_count": 17,
   "id": "14e90ff7-b3f0-4bcc-8488-e09e7839f123",
   "metadata": {},
   "outputs": [],
   "source": [
    "# Now with Ray "
   ]
  },
  {
   "cell_type": "code",
   "execution_count": 18,
   "id": "15475bd5-e2f1-4a9b-894e-f7e238a72928",
   "metadata": {},
   "outputs": [
    {
     "name": "stderr",
     "output_type": "stream",
     "text": [
      "Caught schedule exception\n"
     ]
    }
   ],
   "source": [
    "dataset_factory = lambda: torchvision.datasets.OxfordIIITPet(\"data/\", download = True, target_types = \"category\", transform = transforms, split = \"trainval\")\n",
    "dataset = ray.data.read_datasource(\n",
    "    SimpleTorchDatasource(), parallelism=1, dataset_factory=dataset_factory\n",
    ")"
   ]
  },
  {
   "cell_type": "code",
   "execution_count": 19,
   "id": "c4cfb5e4-95b3-4e85-be75-53a2bd317cff",
   "metadata": {},
   "outputs": [
    {
     "name": "stderr",
     "output_type": "stream",
     "text": [
      "2022-09-01 18:12:15,370\tINFO common.py:219 -- Exception from actor creation is ignored in destructor. To receive this exception in application code, call a method on the actor reference before its destructor is run.\n",
      "Shuffle Map: 100%|██████████| 1/1 [00:12<00:00, 12.58s/it]\n",
      "Shuffle Reduce: 100%|██████████| 1/1 [00:00<00:00,  1.06it/s]\n",
      "Repartition: 100%|██████████| 2/2 [00:02<00:00,  1.09s/it]\n"
     ]
    },
    {
     "data": {
      "text/plain": [
       "[Dataset(num_blocks=1, num_rows=1840, schema=<class 'tuple'>),\n",
       " Dataset(num_blocks=1, num_rows=1840, schema=<class 'tuple'>)]"
      ]
     },
     "execution_count": 19,
     "metadata": {},
     "output_type": "execute_result"
    }
   ],
   "source": [
    "x = dataset.random_shuffle().repartition(2).split(2)\n",
    "x"
   ]
  },
  {
   "cell_type": "code",
   "execution_count": 20,
   "id": "302b3572-75e5-48ac-b1ef-8e3c474c5ae1",
   "metadata": {},
   "outputs": [],
   "source": [
    "train_data = x[0]\n",
    "test_data = x[1]"
   ]
  },
  {
   "cell_type": "code",
   "execution_count": 21,
   "id": "9f6c5c42-ece5-4198-8eb3-970d2d0e0e26",
   "metadata": {},
   "outputs": [],
   "source": [
    "def train_epoch(dataloader, model, loss_fn, optim):\n",
    "    model.train()\n",
    "    model.to(\"cuda\")\n",
    "    for batch_idx, data in enumerate(dataloader.iter_batches()):\n",
    "        X = [x[0] for x in data]\n",
    "        X = torch.stack(X)\n",
    "        X = X.to(\"cuda\")\n",
    "        y = [torch.tensor(x[1]) for x in data]\n",
    "        y = torch.stack(y)\n",
    "        y = y.to(\"cuda\") \n",
    "        pred = model(X)\n",
    "        loss = loss_fn(pred, y)\n",
    "        \n",
    "        #backprop\n",
    "        optim.zero_grad()\n",
    "        loss.backward()\n",
    "        optim.step()\n",
    "        \n",
    "    return loss.item()"
   ]
  },
  {
   "cell_type": "code",
   "execution_count": 22,
   "id": "3567ad82-a201-47a6-a961-a2a8b029771d",
   "metadata": {},
   "outputs": [],
   "source": [
    "def validate_epoch(dataloader, model, loss_fn):\n",
    "    model.eval()\n",
    "    test_loss, correct = 0, 0\n",
    "    with torch.no_grad():\n",
    "        for data in dataloader.iter_batches():\n",
    "            X = [x[0] for x in data]\n",
    "            X = torch.stack(X)\n",
    "            X = X.to(\"cuda\")\n",
    "            y = [torch.tensor(x[1]) for x in data]\n",
    "            y = torch.stack(y)\n",
    "            y = y.to(\"cuda\")\n",
    "            pred = model(X)\n",
    "            test_loss += loss_fn(pred, y).item()  \n",
    "    \n",
    "    return test_loss/dataloader.num_blocks()\n",
    "\n",
    "            "
   ]
  },
  {
   "cell_type": "code",
   "execution_count": 23,
   "id": "c256a8bb-c418-44de-9831-7498b775ee2f",
   "metadata": {},
   "outputs": [],
   "source": [
    "# Define a search space.\n",
    "search_space = {\n",
    "    \"lr\": tune.grid_search([0.001, 0.1]),\n",
    "    \"momentum\": tune.grid_search([0.1, 0.9]),\n",
    "    \"batch_size\": tune.grid_search([4]), \n",
    "    \"epochs\": tune.grid_search([300]),\n",
    "    \"tune_run\": tune.grid_search([True])\n",
    "    \n",
    "}"
   ]
  },
  {
   "cell_type": "code",
   "execution_count": 24,
   "id": "fa741303-79e6-4cfe-9813-9d58dbc5e99f",
   "metadata": {},
   "outputs": [],
   "source": [
    "def train_func(config):\n",
    "    batch_size = config[\"batch_size\"]\n",
    "    lr = config[\"lr\"]\n",
    "    epochs = config[\"epochs\"]\n",
    "    momentum = config[\"momentum\"]\n",
    "    tune_run = config[\"tune_run\"]\n",
    "    \n",
    "    \n",
    "    train_dataloader = train_data\n",
    "    test_dataloader = test_data\n",
    "    model = ConvNet()\n",
    "    #model = train.torch.prepare_model(model)\n",
    "    loss_fn = nn.CrossEntropyLoss()\n",
    "    optimizer = optim.SGD(model.parameters(), lr=lr,  momentum=momentum)\n",
    "    \n",
    "    loss_results = []\n",
    "    eval_results = []\n",
    "    \n",
    "    for epoch in range(epochs):\n",
    "        loss = train_epoch(train_dataloader, model, loss_fn, optimizer)\n",
    "        val_loss = validate_epoch(test_dataloader, model, loss_fn)\n",
    "        #train.report(loss=val_loss)\n",
    "        loss_results.append(loss)\n",
    "        eval_results.append(val_loss)\n",
    "        if not tune_run:\n",
    "            if epoch % 100 == 0:\n",
    "                print(f\"epoch:{epoch}  loss {loss:>7f}\")\n",
    "                print(f\"eval loss: {val_loss:>7f}\")    \n",
    "\n",
    "            if epoch == epochs-1:\n",
    "                state_dict = model.state_dict()\n",
    "                consume_prefix_in_state_dict_if_present(state_dict, \"module.\")\n",
    "                train.save_checkpoint(epoch=epochs, model_weights=state_dict)\n",
    "    \n",
    "    if tune_run:\n",
    "        tune.report(loss=loss)\n",
    "    \n",
    "    return loss_results, eval_results\n",
    "            \n",
    "    "
   ]
  },
  {
   "cell_type": "code",
   "execution_count": 25,
   "id": "95bcfcbd-4810-4960-b459-35244606ec50",
   "metadata": {},
   "outputs": [],
   "source": [
    "# Tune! "
   ]
  },
  {
   "cell_type": "code",
   "execution_count": null,
   "id": "1336b4f7-96e0-4ff7-8353-d57a332dee1b",
   "metadata": {},
   "outputs": [],
   "source": [
    "analysis = tune.run(tune.with_parameters(train_func), config=search_space, resources_per_trial={'gpu': 1})\n",
    "print(analysis.get_best_config(metric=\"loss\", mode=\"min\"))"
   ]
  },
  {
   "cell_type": "code",
   "execution_count": 27,
   "id": "06f694c7-06cc-4e3f-bfe2-104ffe7d2bff",
   "metadata": {},
   "outputs": [],
   "source": [
    "# Now that we know best param, we'll train and save our model. This prevents us from saving N model trails that we'll need to deleted later.  "
   ]
  },
  {
   "cell_type": "code",
   "execution_count": 28,
   "id": "4a347f13-53b5-4edf-b9b5-ee8cdac5e427",
   "metadata": {},
   "outputs": [
    {
     "name": "stderr",
     "output_type": "stream",
     "text": [
      "\u001b[2m\u001b[36m(run pid=1711)\u001b[0m 2022-09-01 18:16:07,526\tINFO tune.py:747 -- Total run time: 214.67 seconds (214.43 seconds for the tuning loop).\n",
      "2022-09-01 18:16:07,578\tINFO trainer.py:243 -- Trainer logs will be logged in: /opt/app-root/src/ray_results/train_2022-09-01_18-16-07\n"
     ]
    },
    {
     "name": "stdout",
     "output_type": "stream",
     "text": [
      "CPU times: user 7.45 ms, sys: 974 µs, total: 8.42 ms\n",
      "Wall time: 16.1 ms\n"
     ]
    }
   ],
   "source": [
    "%%time\n",
    "if os.environ.get('RAY_CLUSTER_NAME') is not None:\n",
    "    num_workers = 2\n",
    "else:\n",
    "    num_workers = 1\n",
    "    \n",
    "\n",
    "trainer = Trainer(backend=\"torch\", num_workers=num_workers, use_gpu=True)"
   ]
  },
  {
   "cell_type": "code",
   "execution_count": null,
   "id": "fa6e0ef6-0e23-4e95-b382-8eec8e995c97",
   "metadata": {},
   "outputs": [],
   "source": [
    "%%time\n",
    "trainer.start()# This keeps starting new workers "
   ]
  },
  {
   "cell_type": "code",
   "execution_count": 30,
   "id": "9ac9f3b5-e95b-4323-9ae8-cc2f7f1b4ba6",
   "metadata": {},
   "outputs": [],
   "source": [
    "config = analysis.get_best_config(metric=\"loss\", mode=\"min\")\n",
    "config[\"tune_run\"] = False"
   ]
  },
  {
   "cell_type": "code",
   "execution_count": null,
   "id": "2eaed035-27fc-4f2d-9237-e60dcda0a003",
   "metadata": {},
   "outputs": [],
   "source": [
    "%%time\n",
    "loss, eval_ = trainer.run(train_func=train_func,\n",
    "                          config = config)\n"
   ]
  },
  {
   "cell_type": "code",
   "execution_count": 32,
   "id": "8d20ebc9-52bc-4829-8975-a61c0cd0b8ee",
   "metadata": {},
   "outputs": [],
   "source": [
    "results = trainer.latest_checkpoint"
   ]
  },
  {
   "cell_type": "code",
   "execution_count": 33,
   "id": "a594aa05-62f0-4c75-b2ef-736f6506c4d7",
   "metadata": {},
   "outputs": [
    {
     "name": "stdout",
     "output_type": "stream",
     "text": [
      "CPU times: user 2.11 ms, sys: 25 µs, total: 2.13 ms\n",
      "Wall time: 30 ms\n"
     ]
    }
   ],
   "source": [
    "%%time\n",
    "trainer.shutdown()"
   ]
  },
  {
   "cell_type": "code",
   "execution_count": 44,
   "id": "811062b5-6b6a-4a70-9670-3795691abc67",
   "metadata": {},
   "outputs": [
    {
     "data": {
      "image/png": "[encoded data removed]",
      "text/plain": [
       "<Figure size 432x288 with 1 Axes>"
      ]
     },
     "metadata": {
      "needs_background": "light"
     },
     "output_type": "display_data"
    }
   ],
   "source": [
    "plt.plot(loss[0])\n",
    "plt.plot(eval_[1])\n",
    "plt.show()"
   ]
  },
  {
   "cell_type": "code",
   "execution_count": 35,
   "id": "30ccf2dc-732c-49a8-a13d-d48981fc397a",
   "metadata": {},
   "outputs": [],
   "source": [
    "model = ConvNet()\n",
    "model.load_state_dict(results[\"model_weights\"])\n",
    "model_scripted = torch.jit.script(model)\n",
    "model_scripted.save('models/ray_model_scripted.pt')"
   ]
  },
  {
   "cell_type": "code",
   "execution_count": 36,
   "id": "48a92050-5beb-448e-b79f-2d8d52f22d7f",
   "metadata": {},
   "outputs": [],
   "source": [
    "model = torch.jit.load(\"models/ray_model_scripted.pt\", map_location=torch.device('cpu')).eval()"
   ]
  },
  {
   "cell_type": "code",
   "execution_count": 37,
   "id": "2c587d6b-2c52-4e7b-b1f5-71ab89c74cb0",
   "metadata": {},
   "outputs": [
    {
     "data": {
      "image/png": "[encoded data removed]",
      "text/plain": [
       "<PIL.Image.Image image mode=RGB size=64x64>"
      ]
     },
     "metadata": {},
     "output_type": "display_data"
    },
    {
     "name": "stdout",
     "output_type": "stream",
     "text": [
      "label:6\n",
      "prediction: 11\n"
     ]
    }
   ],
   "source": [
    "train_features, train_labels = next(iter(data_loader))\n",
    "make = ToPILImage()\n",
    "make(train_features[0]).show()\n",
    "print(f'label:{train_labels[0]}')\n",
    "logits = model(train_features[0].reshape(1,3,64,64).to(device))\n",
    "print(f\"prediction: {torch.argmax(logits).item()}\")"
   ]
  },
  {
   "cell_type": "code",
   "execution_count": 38,
   "id": "372a595e-2e12-4caf-a3d1-b0e2d05beba1",
   "metadata": {},
   "outputs": [],
   "source": [
    "y_preds = []\n",
    "gt = []\n",
    "for X,y in data_loader:\n",
    "    logits = model(X[0].reshape(1,3,64,64).to(device))\n",
    "    y_pred = torch.argmax(logits).item()\n",
    "    y_preds.append(y_pred)\n",
    "    gt.append(y[0].item())"
   ]
  },
  {
   "cell_type": "code",
   "execution_count": 39,
   "id": "e2e9df11-84a1-4600-a2fb-e3c614629706",
   "metadata": {},
   "outputs": [],
   "source": [
    "for data in test_data.iter_batches():\n",
    "    X = [x[0] for x in data]\n",
    "    X = torch.stack(X)\n",
    "    X = X.to(\"cpu\")\n",
    "    y = [torch.tensor(x[1]) for x in data]\n",
    "    y = torch.stack(y)\n",
    "    logits = model(X.to(device))\n",
    "    y_preds = torch.argmax(logits, dim=1)\n",
    "    y_preds = y_preds.to(\"cpu\")"
   ]
  },
  {
   "cell_type": "code",
   "execution_count": 40,
   "id": "e4bea5b8-197b-4c8e-a63a-2b74472889eb",
   "metadata": {},
   "outputs": [
    {
     "name": "stdout",
     "output_type": "stream",
     "text": [
      "              precision    recall  f1-score   support\n",
      "\n",
      "           0       0.06      0.07      0.07        43\n",
      "           1       0.12      0.11      0.11        55\n",
      "           2       0.00      0.00      0.00        65\n",
      "           3       0.14      0.11      0.12        64\n",
      "           4       0.04      0.04      0.04        49\n",
      "           5       0.02      0.05      0.03        22\n",
      "           6       0.05      0.04      0.04        53\n",
      "           7       0.32      0.25      0.28        71\n",
      "           8       0.05      0.07      0.06        44\n",
      "           9       0.06      0.06      0.06        53\n",
      "          10       0.06      0.05      0.05        64\n",
      "          11       0.06      0.12      0.08        24\n",
      "          12       0.04      0.04      0.04        49\n",
      "          13       0.08      0.07      0.08        55\n",
      "          14       0.14      0.09      0.11        68\n",
      "          15       0.20      0.13      0.16        75\n",
      "          16       0.00      0.00      0.00        24\n",
      "          17       0.14      0.10      0.12        68\n",
      "          18       0.10      0.10      0.10        51\n",
      "          19       0.09      0.09      0.09        47\n",
      "          20       0.05      0.12      0.07        26\n",
      "          21       0.06      0.06      0.06        52\n",
      "          22       0.21      0.14      0.17        70\n",
      "          23       0.05      0.08      0.06        26\n",
      "          24       0.02      0.05      0.03        21\n",
      "          25       0.08      0.09      0.08        43\n",
      "          26       0.03      0.06      0.04        32\n",
      "          27       0.04      0.05      0.04        41\n",
      "          28       0.16      0.11      0.13        65\n",
      "          29       0.31      0.17      0.22        87\n",
      "          30       0.08      0.10      0.09        40\n",
      "          31       0.02      0.02      0.02        45\n",
      "          32       0.07      0.08      0.08        49\n",
      "          33       0.05      0.09      0.07        33\n",
      "          34       0.06      0.07      0.06        41\n",
      "          35       0.02      0.02      0.02        52\n",
      "          36       0.19      0.12      0.15        73\n",
      "\n",
      "    accuracy                           0.09      1840\n",
      "   macro avg       0.09      0.08      0.08      1840\n",
      "weighted avg       0.11      0.09      0.09      1840\n",
      "\n"
     ]
    }
   ],
   "source": [
    "print(classification_report(y_preds,y))"
   ]
  },
  {
   "cell_type": "code",
   "execution_count": 41,
   "id": "a89e32c3-4e21-411a-9ded-ff04be4aa456",
   "metadata": {},
   "outputs": [
    {
     "data": {
      "image/png": "[encoded data removed]",
      "text/plain": [
       "<Figure size 432x288 with 1 Axes>"
      ]
     },
     "metadata": {
      "needs_background": "light"
     },
     "output_type": "display_data"
    }
   ],
   "source": [
    "plt.imshow(confusion_matrix(y_preds,y), cmap='hot', interpolation='nearest')\n",
    "plt.show()"
   ]
  },
  {
   "cell_type": "code",
   "execution_count": 42,
   "id": "c807e572-428a-436e-99d5-a73a19943a04",
   "metadata": {},
   "outputs": [
    {
     "name": "stdout",
     "output_type": "stream",
     "text": [
      "Accuracy: 8.9%\n",
      "Random guess would yield 2.7%\n",
      "Model outperforms Random chance by a factor of 3.28\n"
     ]
    }
   ],
   "source": [
    "print(f\"Accuracy: {np.sum(np.array(y_preds)==np.array(y))/(len(y))*100:.1f}%\")\n",
    "print(f\"Random guess would yield {(1/37)*100:.1f}%\")\n",
    "print(f\"Model outperforms Random chance by a factor of {(np.sum(np.array(y_preds)==np.array(y))/len(y))/(1/37):.2f}\")"
   ]
  },
  {
   "cell_type": "code",
   "execution_count": 43,
   "id": "48739528-a5a4-4ba1-b3fa-c8e7ad669bd9",
   "metadata": {},
   "outputs": [
    {
     "name": "stderr",
     "output_type": "stream",
     "text": [
      "Log channel is reconnecting. Logs produced while the connection was down can be found on the head node of the cluster in `ray_client_server_[port].out`\n",
      "2022-09-01 18:19:53,397\tWARNING dataclient.py:363 -- Encountered connection issues in the data channel. Attempting to reconnect.\n"
     ]
    },
    {
     "name": "stdout",
     "output_type": "stream",
     "text": [
      "done\n"
     ]
    },
    {
     "name": "stderr",
     "output_type": "stream",
     "text": [
      "2022-09-01 18:20:23,603\tWARNING dataclient.py:370 -- Failed to reconnect the data channel\n"
     ]
    }
   ],
   "source": [
    "stop_ray_cluster()"
   ]
  }
 ],
 "metadata": {
  "kernelspec": {
   "display_name": "Python 3 (ipykernel)",
   "language": "python",
   "name": "python3"
  },
  "language_info": {
   "codemirror_mode": {
    "name": "ipython",
    "version": 3
   },
   "file_extension": ".py",
   "mimetype": "text/x-python",
   "name": "python",
   "nbconvert_exporter": "python",
   "pygments_lexer": "ipython3",
   "version": "3.8.8"
  }
 },
 "nbformat": 4,
 "nbformat_minor": 5
}
